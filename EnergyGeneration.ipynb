{
 "cells": [
  {
   "cell_type": "markdown",
   "id": "4f37ac2f",
   "metadata": {},
   "source": [
    "#### Import Required Libraries"
   ]
  },
  {
   "cell_type": "code",
   "execution_count": 184,
   "id": "364b7d39",
   "metadata": {},
   "outputs": [],
   "source": [
    "from sklearn.linear_model import LinearRegression\n",
    "\n",
    "from sklearn.model_selection import train_test_split\n",
    "\n",
    "from sklearn.metrics import mean_absolute_error,mean_squared_error,r2_score\n",
    "\n",
    "from sklearn.preprocessing import LabelEncoder\n",
    "\n",
    "import pandas as pd\n",
    "\n",
    "import numpy as np\n",
    "\n",
    "import seaborn as sns\n",
    "\n",
    "import matplotlib.pyplot as plt\n",
    "\n",
    "sns.set_context(\"talk\")"
   ]
  },
  {
   "cell_type": "markdown",
   "id": "bdc095e9",
   "metadata": {},
   "source": [
    "#### Load Data"
   ]
  },
  {
   "cell_type": "code",
   "execution_count": 185,
   "id": "e27ac29f",
   "metadata": {},
   "outputs": [
    {
     "data": {
      "text/html": [
       "<div>\n",
       "<style scoped>\n",
       "    .dataframe tbody tr th:only-of-type {\n",
       "        vertical-align: middle;\n",
       "    }\n",
       "\n",
       "    .dataframe tbody tr th {\n",
       "        vertical-align: top;\n",
       "    }\n",
       "\n",
       "    .dataframe thead th {\n",
       "        text-align: right;\n",
       "    }\n",
       "</style>\n",
       "<table border=\"1\" class=\"dataframe\">\n",
       "  <thead>\n",
       "    <tr style=\"text-align: right;\">\n",
       "      <th></th>\n",
       "      <th>Zone_Name</th>\n",
       "      <th>Year</th>\n",
       "      <th>Name_Of_Power_Plant</th>\n",
       "      <th>Type_Of_Fuel</th>\n",
       "      <th>Generation_Capacity_Installed</th>\n",
       "      <th>Unit1</th>\n",
       "      <th>Annual_Plant_factor</th>\n",
       "      <th>Unit2</th>\n",
       "      <th>Net_Efficiency</th>\n",
       "      <th>Unit3</th>\n",
       "      <th>Net_Energy_Generation</th>\n",
       "      <th>Unit4</th>\n",
       "    </tr>\n",
       "  </thead>\n",
       "  <tbody>\n",
       "    <tr>\n",
       "      <th>0</th>\n",
       "      <td>Dhaka</td>\n",
       "      <td>2018</td>\n",
       "      <td>Ghorasal 2X55 MW ST</td>\n",
       "      <td>Gas</td>\n",
       "      <td>110.0</td>\n",
       "      <td>MW</td>\n",
       "      <td>45.30</td>\n",
       "      <td>Percentage</td>\n",
       "      <td>24.89</td>\n",
       "      <td>Percentage</td>\n",
       "      <td>314.96</td>\n",
       "      <td>GWH</td>\n",
       "    </tr>\n",
       "    <tr>\n",
       "      <th>1</th>\n",
       "      <td>Dhaka</td>\n",
       "      <td>2018</td>\n",
       "      <td>Ghorasal 2X210 MW ST</td>\n",
       "      <td>Gas</td>\n",
       "      <td>420.0</td>\n",
       "      <td>MW</td>\n",
       "      <td>34.82</td>\n",
       "      <td>Percentage</td>\n",
       "      <td>30.96</td>\n",
       "      <td>Percentage</td>\n",
       "      <td>975.63</td>\n",
       "      <td>GWH</td>\n",
       "    </tr>\n",
       "    <tr>\n",
       "      <th>2</th>\n",
       "      <td>Dhaka</td>\n",
       "      <td>2018</td>\n",
       "      <td>Ghorasal 210 MW ST (5+6th Unit)</td>\n",
       "      <td>Gas</td>\n",
       "      <td>210.0</td>\n",
       "      <td>MW</td>\n",
       "      <td>27.66</td>\n",
       "      <td>Percentage</td>\n",
       "      <td>27.77</td>\n",
       "      <td>Percentage</td>\n",
       "      <td>424.30</td>\n",
       "      <td>GWH</td>\n",
       "    </tr>\n",
       "    <tr>\n",
       "      <th>3</th>\n",
       "      <td>Dhaka</td>\n",
       "      <td>2018</td>\n",
       "      <td>Ghorasal 210 MW 7th</td>\n",
       "      <td>Gas</td>\n",
       "      <td>365.0</td>\n",
       "      <td>MW</td>\n",
       "      <td>38.57</td>\n",
       "      <td>Percentage</td>\n",
       "      <td>44.91</td>\n",
       "      <td>Percentage</td>\n",
       "      <td>1166.41</td>\n",
       "      <td>GWH</td>\n",
       "    </tr>\n",
       "    <tr>\n",
       "      <th>4</th>\n",
       "      <td>Dhaka</td>\n",
       "      <td>2018</td>\n",
       "      <td>Tongi 105 MW GT</td>\n",
       "      <td>Gas</td>\n",
       "      <td>105.0</td>\n",
       "      <td>MW</td>\n",
       "      <td>0.00</td>\n",
       "      <td>Percentage</td>\n",
       "      <td>0.00</td>\n",
       "      <td>Percentage</td>\n",
       "      <td>-2.81</td>\n",
       "      <td>GWH</td>\n",
       "    </tr>\n",
       "    <tr>\n",
       "      <th>5</th>\n",
       "      <td>Dhaka</td>\n",
       "      <td>2018</td>\n",
       "      <td>Haripur 3X33 MW GT</td>\n",
       "      <td>Gas</td>\n",
       "      <td>64.0</td>\n",
       "      <td>MW</td>\n",
       "      <td>22.99</td>\n",
       "      <td>Percentage</td>\n",
       "      <td>19.98</td>\n",
       "      <td>Percentage</td>\n",
       "      <td>79.47</td>\n",
       "      <td>GWH</td>\n",
       "    </tr>\n",
       "    <tr>\n",
       "      <th>6</th>\n",
       "      <td>Dhaka</td>\n",
       "      <td>2018</td>\n",
       "      <td>Siddhirganj 210 MW ST</td>\n",
       "      <td>Gas</td>\n",
       "      <td>210.0</td>\n",
       "      <td>MW</td>\n",
       "      <td>16.23</td>\n",
       "      <td>Percentage</td>\n",
       "      <td>29.38</td>\n",
       "      <td>Percentage</td>\n",
       "      <td>144.75</td>\n",
       "      <td>GWH</td>\n",
       "    </tr>\n",
       "    <tr>\n",
       "      <th>7</th>\n",
       "      <td>Dhaka</td>\n",
       "      <td>2018</td>\n",
       "      <td>Siddhirganj 2x120 MW GT</td>\n",
       "      <td>Gas</td>\n",
       "      <td>210.0</td>\n",
       "      <td>MW</td>\n",
       "      <td>36.01</td>\n",
       "      <td>Percentage</td>\n",
       "      <td>26.19</td>\n",
       "      <td>Percentage</td>\n",
       "      <td>636.82</td>\n",
       "      <td>GWH</td>\n",
       "    </tr>\n",
       "    <tr>\n",
       "      <th>8</th>\n",
       "      <td>Dhaka</td>\n",
       "      <td>2018</td>\n",
       "      <td>Haripur 412 MW CCPP</td>\n",
       "      <td>Gas</td>\n",
       "      <td>412.0</td>\n",
       "      <td>MW</td>\n",
       "      <td>87.42</td>\n",
       "      <td>Percentage</td>\n",
       "      <td>56.13</td>\n",
       "      <td>Percentage</td>\n",
       "      <td>3030.87</td>\n",
       "      <td>GWH</td>\n",
       "    </tr>\n",
       "    <tr>\n",
       "      <th>9</th>\n",
       "      <td>Dhaka</td>\n",
       "      <td>2018</td>\n",
       "      <td>RPCL Gazipur 52 MW</td>\n",
       "      <td>F. oil</td>\n",
       "      <td>52.0</td>\n",
       "      <td>MW</td>\n",
       "      <td>68.35</td>\n",
       "      <td>Percentage</td>\n",
       "      <td>39.05</td>\n",
       "      <td>Percentage</td>\n",
       "      <td>302.62</td>\n",
       "      <td>GWH</td>\n",
       "    </tr>\n",
       "  </tbody>\n",
       "</table>\n",
       "</div>"
      ],
      "text/plain": [
       "  Zone_Name  Year               Name_Of_Power_Plant Type_Of_Fuel  \\\n",
       "0     Dhaka  2018               Ghorasal 2X55 MW ST          Gas   \n",
       "1     Dhaka  2018              Ghorasal 2X210 MW ST          Gas   \n",
       "2     Dhaka  2018  Ghorasal 210 MW ST (5+6th Unit)           Gas   \n",
       "3     Dhaka  2018               Ghorasal 210 MW 7th          Gas   \n",
       "4     Dhaka  2018                   Tongi 105 MW GT          Gas   \n",
       "5     Dhaka  2018                Haripur 3X33 MW GT          Gas   \n",
       "6     Dhaka  2018             Siddhirganj 210 MW ST          Gas   \n",
       "7     Dhaka  2018           Siddhirganj 2x120 MW GT          Gas   \n",
       "8     Dhaka  2018               Haripur 412 MW CCPP          Gas   \n",
       "9     Dhaka  2018                RPCL Gazipur 52 MW       F. oil   \n",
       "\n",
       "   Generation_Capacity_Installed Unit1  Annual_Plant_factor       Unit2  \\\n",
       "0                          110.0    MW                45.30  Percentage   \n",
       "1                          420.0    MW                34.82  Percentage   \n",
       "2                          210.0    MW                27.66  Percentage   \n",
       "3                          365.0    MW                38.57  Percentage   \n",
       "4                          105.0    MW                 0.00  Percentage   \n",
       "5                           64.0    MW                22.99  Percentage   \n",
       "6                          210.0    MW                16.23  Percentage   \n",
       "7                          210.0    MW                36.01  Percentage   \n",
       "8                          412.0    MW                87.42  Percentage   \n",
       "9                           52.0    MW                68.35  Percentage   \n",
       "\n",
       "   Net_Efficiency       Unit3  Net_Energy_Generation Unit4  \n",
       "0           24.89  Percentage                 314.96   GWH  \n",
       "1           30.96  Percentage                 975.63   GWH  \n",
       "2           27.77  Percentage                 424.30   GWH  \n",
       "3           44.91  Percentage                1166.41   GWH  \n",
       "4            0.00  Percentage                  -2.81   GWH  \n",
       "5           19.98  Percentage                  79.47   GWH  \n",
       "6           29.38  Percentage                 144.75   GWH  \n",
       "7           26.19  Percentage                 636.82   GWH  \n",
       "8           56.13  Percentage                3030.87   GWH  \n",
       "9           39.05  Percentage                 302.62   GWH  "
      ]
     },
     "metadata": {},
     "output_type": "display_data"
    },
    {
     "name": "stdout",
     "output_type": "stream",
     "text": [
      "(199, 12)\n"
     ]
    }
   ],
   "source": [
    "df =  pd.read_excel(\"Energy Generation.xlsx\")\n",
    "\n",
    "display(df.head(10))\n",
    "print(df.shape)"
   ]
  },
  {
   "cell_type": "code",
   "execution_count": 186,
   "id": "7077519e",
   "metadata": {},
   "outputs": [
    {
     "name": "stdout",
     "output_type": "stream",
     "text": [
      "<class 'pandas.core.frame.DataFrame'>\n",
      "RangeIndex: 199 entries, 0 to 198\n",
      "Data columns (total 12 columns):\n",
      " #   Column                         Non-Null Count  Dtype  \n",
      "---  ------                         --------------  -----  \n",
      " 0   Zone_Name                      199 non-null    object \n",
      " 1   Year                           199 non-null    int64  \n",
      " 2   Name_Of_Power_Plant            199 non-null    object \n",
      " 3   Type_Of_Fuel                   199 non-null    object \n",
      " 4   Generation_Capacity_Installed  194 non-null    float64\n",
      " 5   Unit1                          199 non-null    object \n",
      " 6   Annual_Plant_factor            187 non-null    float64\n",
      " 7   Unit2                          199 non-null    object \n",
      " 8   Net_Efficiency                 184 non-null    float64\n",
      " 9   Unit3                          199 non-null    object \n",
      " 10  Net_Energy_Generation          196 non-null    float64\n",
      " 11  Unit4                          199 non-null    object \n",
      "dtypes: float64(4), int64(1), object(7)\n",
      "memory usage: 18.8+ KB\n"
     ]
    }
   ],
   "source": [
    "df.info()"
   ]
  },
  {
   "cell_type": "code",
   "execution_count": 187,
   "id": "22361c64",
   "metadata": {
    "scrolled": true
   },
   "outputs": [
    {
     "data": {
      "text/html": [
       "<div>\n",
       "<style scoped>\n",
       "    .dataframe tbody tr th:only-of-type {\n",
       "        vertical-align: middle;\n",
       "    }\n",
       "\n",
       "    .dataframe tbody tr th {\n",
       "        vertical-align: top;\n",
       "    }\n",
       "\n",
       "    .dataframe thead th {\n",
       "        text-align: right;\n",
       "    }\n",
       "</style>\n",
       "<table border=\"1\" class=\"dataframe\">\n",
       "  <thead>\n",
       "    <tr style=\"text-align: right;\">\n",
       "      <th></th>\n",
       "      <th>Year</th>\n",
       "      <th>Generation_Capacity_Installed</th>\n",
       "      <th>Annual_Plant_factor</th>\n",
       "      <th>Net_Efficiency</th>\n",
       "      <th>Net_Energy_Generation</th>\n",
       "    </tr>\n",
       "  </thead>\n",
       "  <tbody>\n",
       "    <tr>\n",
       "      <th>count</th>\n",
       "      <td>199.000000</td>\n",
       "      <td>194.000000</td>\n",
       "      <td>187.000000</td>\n",
       "      <td>184.000000</td>\n",
       "      <td>196.000000</td>\n",
       "    </tr>\n",
       "    <tr>\n",
       "      <th>mean</th>\n",
       "      <td>2019.020101</td>\n",
       "      <td>161.159794</td>\n",
       "      <td>39.365668</td>\n",
       "      <td>33.187880</td>\n",
       "      <td>517.675186</td>\n",
       "    </tr>\n",
       "    <tr>\n",
       "      <th>std</th>\n",
       "      <td>0.810037</td>\n",
       "      <td>117.101746</td>\n",
       "      <td>37.979064</td>\n",
       "      <td>11.027779</td>\n",
       "      <td>656.220404</td>\n",
       "    </tr>\n",
       "    <tr>\n",
       "      <th>min</th>\n",
       "      <td>2018.000000</td>\n",
       "      <td>0.000000</td>\n",
       "      <td>0.000000</td>\n",
       "      <td>0.000000</td>\n",
       "      <td>-19.630000</td>\n",
       "    </tr>\n",
       "    <tr>\n",
       "      <th>25%</th>\n",
       "      <td>2018.000000</td>\n",
       "      <td>60.000000</td>\n",
       "      <td>15.900000</td>\n",
       "      <td>26.767500</td>\n",
       "      <td>52.526600</td>\n",
       "    </tr>\n",
       "    <tr>\n",
       "      <th>50%</th>\n",
       "      <td>2019.000000</td>\n",
       "      <td>150.000000</td>\n",
       "      <td>34.660000</td>\n",
       "      <td>34.310000</td>\n",
       "      <td>276.545850</td>\n",
       "    </tr>\n",
       "    <tr>\n",
       "      <th>75%</th>\n",
       "      <td>2020.000000</td>\n",
       "      <td>220.000000</td>\n",
       "      <td>57.800000</td>\n",
       "      <td>39.900000</td>\n",
       "      <td>702.138050</td>\n",
       "    </tr>\n",
       "    <tr>\n",
       "      <th>max</th>\n",
       "      <td>2020.000000</td>\n",
       "      <td>622.000000</td>\n",
       "      <td>310.270000</td>\n",
       "      <td>56.470000</td>\n",
       "      <td>3030.870000</td>\n",
       "    </tr>\n",
       "  </tbody>\n",
       "</table>\n",
       "</div>"
      ],
      "text/plain": [
       "              Year  Generation_Capacity_Installed  Annual_Plant_factor  \\\n",
       "count   199.000000                     194.000000           187.000000   \n",
       "mean   2019.020101                     161.159794            39.365668   \n",
       "std       0.810037                     117.101746            37.979064   \n",
       "min    2018.000000                       0.000000             0.000000   \n",
       "25%    2018.000000                      60.000000            15.900000   \n",
       "50%    2019.000000                     150.000000            34.660000   \n",
       "75%    2020.000000                     220.000000            57.800000   \n",
       "max    2020.000000                     622.000000           310.270000   \n",
       "\n",
       "       Net_Efficiency  Net_Energy_Generation  \n",
       "count      184.000000             196.000000  \n",
       "mean        33.187880             517.675186  \n",
       "std         11.027779             656.220404  \n",
       "min          0.000000             -19.630000  \n",
       "25%         26.767500              52.526600  \n",
       "50%         34.310000             276.545850  \n",
       "75%         39.900000             702.138050  \n",
       "max         56.470000            3030.870000  "
      ]
     },
     "execution_count": 187,
     "metadata": {},
     "output_type": "execute_result"
    }
   ],
   "source": [
    "df.describe()"
   ]
  },
  {
   "cell_type": "markdown",
   "id": "81879cad",
   "metadata": {},
   "source": [
    "#### Find Total Number Of Null Values"
   ]
  },
  {
   "cell_type": "code",
   "execution_count": 188,
   "id": "fc4a7a6b",
   "metadata": {},
   "outputs": [
    {
     "data": {
      "text/plain": [
       "Zone_Name                         0\n",
       "Year                              0\n",
       "Name_Of_Power_Plant               0\n",
       "Type_Of_Fuel                      0\n",
       "Generation_Capacity_Installed     5\n",
       "Unit1                             0\n",
       "Annual_Plant_factor              12\n",
       "Unit2                             0\n",
       "Net_Efficiency                   15\n",
       "Unit3                             0\n",
       "Net_Energy_Generation             3\n",
       "Unit4                             0\n",
       "dtype: int64"
      ]
     },
     "execution_count": 188,
     "metadata": {},
     "output_type": "execute_result"
    }
   ],
   "source": [
    "df.isnull().sum()"
   ]
  },
  {
   "cell_type": "code",
   "execution_count": 189,
   "id": "fb5e7035",
   "metadata": {},
   "outputs": [
    {
     "data": {
      "text/plain": [
       "Index(['Zone_Name', 'Year', 'Name_Of_Power_Plant', 'Type_Of_Fuel',\n",
       "       'Generation_Capacity_Installed', 'Unit1', 'Annual_Plant_factor',\n",
       "       'Unit2', 'Net_Efficiency', 'Unit3', 'Net_Energy_Generation', 'Unit4'],\n",
       "      dtype='object')"
      ]
     },
     "execution_count": 189,
     "metadata": {},
     "output_type": "execute_result"
    }
   ],
   "source": [
    "df.columns"
   ]
  },
  {
   "cell_type": "markdown",
   "id": "2de0bc49",
   "metadata": {},
   "source": [
    "#### Drop Features"
   ]
  },
  {
   "cell_type": "code",
   "execution_count": 190,
   "id": "690d1142",
   "metadata": {},
   "outputs": [],
   "source": [
    "def clean(df):\n",
    "    df=df.drop(['Unit1', 'Unit2', 'Unit3', 'Unit4'],axis=1)\n",
    "    \n",
    "    return df\n",
    "df=clean(df)"
   ]
  },
  {
   "cell_type": "markdown",
   "id": "291b001f",
   "metadata": {},
   "source": [
    "#### Label Encoding"
   ]
  },
  {
   "cell_type": "code",
   "execution_count": 191,
   "id": "febd09ab",
   "metadata": {},
   "outputs": [
    {
     "name": "stdout",
     "output_type": "stream",
     "text": [
      "['Barisal' 'Chattogram' 'Cumilla' 'Dhaka' 'Joint Venture' 'Khulna'\n",
      " 'Rajshahi' 'Rangpur' 'Sylhet']\n",
      "['210 MW Siddhirganj TPP' 'Ashuganj (North) 450 MW CCPP'\n",
      " 'Ashuganj (South) 450 MW CCPP' 'Ashuganj 225 MW CCPP'\n",
      " 'Ashuganj 2x150 MW Steam Turbine' 'Ashuganj 2x64 MW Steam Turbine'\n",
      " 'Ashuganj 2x64 MW Steam Turbine (1,2)'\n",
      " 'Ashuganj 3x150 MW Steam Turbine (3,4,5)' 'Ashuganj 50 MW GE'\n",
      " 'Ashuganj 50 MW PP' 'Ashuganj TPP Unit-3' 'Ashuganj TPP Unit-4'\n",
      " 'Ashuganj TPP Unit-5' 'Baghabari 100 MW/GT' 'Baghabari 100 MW/GTPP'\n",
      " 'Baghabari 50 MW Peaking PP' 'Baghabari 50 MW Peaking RE'\n",
      " 'Baghabari 71 MW/GT' 'Baghabari 71 MW/GTPP'\n",
      " 'Barapukuria 275 MW TPP Unit-3' 'Barapukuria TPP Unit -1,2'\n",
      " 'Barapukyria Coal based S/T (Unit 1,2)'\n",
      " 'Barapukyria Coal based S/T (Unit 3)' 'Barishal 2x20 MW/GT'\n",
      " 'Bera 70 MW Peaking PP' 'Bera 70 MW Peaking RE' 'Bheramara 360 MW CCPP'\n",
      " 'Bheramara 360 MW CCPP (NWPGCL)' 'Bheramara 3x20MW /GT'\n",
      " 'Bheramara GT Unit-1,2 & 3' 'Bheramara GT unit-3' 'Bhola 225 MW CCPP'\n",
      " 'Bibiyana III 400 MW CCPP' 'Bibiyana-3 GTG' 'Chandpur 150 MW CCPP'\n",
      " 'Chapainobabgonj 100 MW Peaking PP'\n",
      " 'Chapainobabgonj Peaking Power Station 100 MW, Amnura'\n",
      " 'Chattogram 60 MW/ST' 'Chattogram TPP Unit -1 ' 'Chattogram TPP Unit -2'\n",
      " 'Dohazari-Kalaish 100 Peaking PP' 'Faridpur 50 MW Peaking PP'\n",
      " 'Faridpur 50 MW Peaking PP0' 'Fenchuganj C.C (Unit #1)'\n",
      " 'Fenchuganj C.C (Unit #2)' 'Fenchuganj C.C. (Unit #1)'\n",
      " 'Fenchuganj C.C. (Unit #2)' 'Fenchuganj CCPP Phase-1 '\n",
      " 'Fenchuganj CCPP Phase-2' 'GTPP Unit -1 & 2' 'Gazipur 100 MW PP'\n",
      " 'Gazipur 52 MW PP' 'Ghorasal 210 MW 7th'\n",
      " 'Ghorasal 210 MW ST (5+6th Unit) ' 'Ghorasal 2X210 MW ST'\n",
      " 'Ghorasal 2X55 MW ST' 'Ghorashal 365 MW CCPP Unit-7'\n",
      " 'Ghorashal Repowered CCPP Unit-3' 'Ghorashal Repowered CCPP Unit-4'\n",
      " 'Ghorashal TPP (Unit 1&2)' 'Ghorashal TPP Unit-5' 'Ghorashal TPP Unit-6'\n",
      " 'Gopalganj 100 MW Peaking PP' 'Haripur 3X33 MW GT' 'Haripur 412 MW CCPP'\n",
      " 'Haripur GTPP' 'Hathazari 100 MW Peaking PP' 'Hathazari 100 Peaking PP'\n",
      " 'Kaptai 7 MW Solar PP' 'Kaptai Solar' 'Karnafuli Hydro'\n",
      " 'Karnaphuli Hydro' 'Karnaphuli Hydro PP Unit -1,2,3,4 & 5'\n",
      " 'Katakhali 50 MW PP' 'Katakhali 50 MW Peaking PP' 'Khulna 110 MW S/T'\n",
      " 'Khulna 225 MW (NWPGCL)' 'Khulna 225 MW CCPP' 'Kodda 150 MW PP '\n",
      " 'Kodda Gazipur 150 MW (PDB-RPCL)' 'Kutubdia 900 KW Wind PP'\n",
      " 'Kutubdia 900kW wind PP' 'Modhumati 100 MW PP' 'Modhumoti 105 MW NWPGCL'\n",
      " 'Payra, Potuakhali 2*660 MW PP (U-1)' 'RPCL Gazipur 52 MW'\n",
      " 'RPCL Raozan 25 MW' 'RPCL Raozan 25 MW ' 'Rangpur 20 MW GTPP'\n",
      " 'Rangpur 20 MW/GT' 'Raozan 210 MW /ST (1st)' 'Raozan 210 MW /ST (2nd)'\n",
      " 'Raozan 25 MW PP' 'Rauzan 210 MW /ST (1st)' 'Rauzan 210 MW /ST (2nd)'\n",
      " 'Saidpur 20 MW/GT' 'Sangu, Dohazari-Kaliaish 100 MW PPP'\n",
      " 'Sangu, Dohazari-kaliaish 100 MW PPP' 'Santahar 50 MW PP'\n",
      " 'Santahar 50 MW Peaking PP' 'Sayedpur 20 MW GTPP'\n",
      " 'Shahjibazar 330 MW CCPP' 'Shahjibazar 70 MW GT Habiganj'\n",
      " 'Shahjibazar 70 MW GT, Habiganj ' 'Shahjibazar GTPP Unit-8&9'\n",
      " 'Shikalbaha 150 MW Peaking PP' 'Shikalbaha 225 MW CCPP'\n",
      " 'Shikalbaha 225 MW PS' 'Shikalbaha 60 MW TPP' 'Shikalbaha Peaking GT'\n",
      " 'Siddhirganj 210 MW ST' 'Siddhirganj 2x120 MW GT'\n",
      " 'Siddhirganj 2x120 MW GTPP' 'Siddhirganj 335 MW CCPP'\n",
      " 'Siddhirganj 335 MW CCPP (EGCB)' 'Sirajgonj 210 MW CC (NWPGCL) Unit-1 '\n",
      " 'Sirajgonj 210 MW CC (NWPGCL) Unit-2'\n",
      " 'Sirajgonj 210 MW CC (NWPGCL) Unit-3'\n",
      " 'Sirajgonj 225 MW CC (NWPGCL) Unit-2'\n",
      " 'Sirajgonj 225 MW CC (NWPGCL) Unit-3' 'Sirajgonj 225 MW CCPP Unit-1'\n",
      " 'Sirajgonj 225 MW CCPPUnit-1' 'Sonagazi 1 MW Wind PP'\n",
      " 'Sonagazi 1 MW wind PP' 'Sylhet 150MW CCPP' 'Sylhet 1x150 MW/GT'\n",
      " 'Sylhet 1x20 MW /GT' 'Sylhet 1x20 MW/GT' 'Sylhet 20MW GTPP'\n",
      " 'Sylhet 230 MW' 'Titas (Doudkandi) 50 MW RE' 'Tongi 105 MW GT'\n",
      " 'Tongi 80 MW GTPP']\n",
      "['Coal' 'F. oil' 'F.oil' 'Gas' 'HSD' 'Hydro' 'Solar' 'Wind']\n"
     ]
    }
   ],
   "source": [
    "from sklearn import preprocessing\n",
    "le = preprocessing.LabelEncoder()\n",
    "columns = ['Zone_Name', 'Name_Of_Power_Plant', 'Type_Of_Fuel']\n",
    "\n",
    "for col in columns:\n",
    "    df[col]=le.fit_transform(df[col])\n",
    "    \n",
    "    print(le.classes_)"
   ]
  },
  {
   "cell_type": "code",
   "execution_count": 192,
   "id": "eb62987d",
   "metadata": {},
   "outputs": [
    {
     "data": {
      "text/html": [
       "<div>\n",
       "<style scoped>\n",
       "    .dataframe tbody tr th:only-of-type {\n",
       "        vertical-align: middle;\n",
       "    }\n",
       "\n",
       "    .dataframe tbody tr th {\n",
       "        vertical-align: top;\n",
       "    }\n",
       "\n",
       "    .dataframe thead th {\n",
       "        text-align: right;\n",
       "    }\n",
       "</style>\n",
       "<table border=\"1\" class=\"dataframe\">\n",
       "  <thead>\n",
       "    <tr style=\"text-align: right;\">\n",
       "      <th></th>\n",
       "      <th>Zone_Name</th>\n",
       "      <th>Year</th>\n",
       "      <th>Name_Of_Power_Plant</th>\n",
       "      <th>Type_Of_Fuel</th>\n",
       "      <th>Generation_Capacity_Installed</th>\n",
       "      <th>Annual_Plant_factor</th>\n",
       "      <th>Net_Efficiency</th>\n",
       "      <th>Net_Energy_Generation</th>\n",
       "    </tr>\n",
       "  </thead>\n",
       "  <tbody>\n",
       "    <tr>\n",
       "      <th>0</th>\n",
       "      <td>3</td>\n",
       "      <td>2018</td>\n",
       "      <td>55</td>\n",
       "      <td>3</td>\n",
       "      <td>110.0</td>\n",
       "      <td>45.30</td>\n",
       "      <td>24.89</td>\n",
       "      <td>314.96</td>\n",
       "    </tr>\n",
       "    <tr>\n",
       "      <th>1</th>\n",
       "      <td>3</td>\n",
       "      <td>2018</td>\n",
       "      <td>54</td>\n",
       "      <td>3</td>\n",
       "      <td>420.0</td>\n",
       "      <td>34.82</td>\n",
       "      <td>30.96</td>\n",
       "      <td>975.63</td>\n",
       "    </tr>\n",
       "    <tr>\n",
       "      <th>2</th>\n",
       "      <td>3</td>\n",
       "      <td>2018</td>\n",
       "      <td>53</td>\n",
       "      <td>3</td>\n",
       "      <td>210.0</td>\n",
       "      <td>27.66</td>\n",
       "      <td>27.77</td>\n",
       "      <td>424.30</td>\n",
       "    </tr>\n",
       "    <tr>\n",
       "      <th>3</th>\n",
       "      <td>3</td>\n",
       "      <td>2018</td>\n",
       "      <td>52</td>\n",
       "      <td>3</td>\n",
       "      <td>365.0</td>\n",
       "      <td>38.57</td>\n",
       "      <td>44.91</td>\n",
       "      <td>1166.41</td>\n",
       "    </tr>\n",
       "    <tr>\n",
       "      <th>4</th>\n",
       "      <td>3</td>\n",
       "      <td>2018</td>\n",
       "      <td>131</td>\n",
       "      <td>3</td>\n",
       "      <td>105.0</td>\n",
       "      <td>0.00</td>\n",
       "      <td>0.00</td>\n",
       "      <td>-2.81</td>\n",
       "    </tr>\n",
       "    <tr>\n",
       "      <th>5</th>\n",
       "      <td>3</td>\n",
       "      <td>2018</td>\n",
       "      <td>63</td>\n",
       "      <td>3</td>\n",
       "      <td>64.0</td>\n",
       "      <td>22.99</td>\n",
       "      <td>19.98</td>\n",
       "      <td>79.47</td>\n",
       "    </tr>\n",
       "    <tr>\n",
       "      <th>6</th>\n",
       "      <td>3</td>\n",
       "      <td>2018</td>\n",
       "      <td>110</td>\n",
       "      <td>3</td>\n",
       "      <td>210.0</td>\n",
       "      <td>16.23</td>\n",
       "      <td>29.38</td>\n",
       "      <td>144.75</td>\n",
       "    </tr>\n",
       "    <tr>\n",
       "      <th>7</th>\n",
       "      <td>3</td>\n",
       "      <td>2018</td>\n",
       "      <td>111</td>\n",
       "      <td>3</td>\n",
       "      <td>210.0</td>\n",
       "      <td>36.01</td>\n",
       "      <td>26.19</td>\n",
       "      <td>636.82</td>\n",
       "    </tr>\n",
       "    <tr>\n",
       "      <th>8</th>\n",
       "      <td>3</td>\n",
       "      <td>2018</td>\n",
       "      <td>64</td>\n",
       "      <td>3</td>\n",
       "      <td>412.0</td>\n",
       "      <td>87.42</td>\n",
       "      <td>56.13</td>\n",
       "      <td>3030.87</td>\n",
       "    </tr>\n",
       "    <tr>\n",
       "      <th>9</th>\n",
       "      <td>3</td>\n",
       "      <td>2018</td>\n",
       "      <td>85</td>\n",
       "      <td>1</td>\n",
       "      <td>52.0</td>\n",
       "      <td>68.35</td>\n",
       "      <td>39.05</td>\n",
       "      <td>302.62</td>\n",
       "    </tr>\n",
       "  </tbody>\n",
       "</table>\n",
       "</div>"
      ],
      "text/plain": [
       "   Zone_Name  Year  Name_Of_Power_Plant  Type_Of_Fuel  \\\n",
       "0          3  2018                   55             3   \n",
       "1          3  2018                   54             3   \n",
       "2          3  2018                   53             3   \n",
       "3          3  2018                   52             3   \n",
       "4          3  2018                  131             3   \n",
       "5          3  2018                   63             3   \n",
       "6          3  2018                  110             3   \n",
       "7          3  2018                  111             3   \n",
       "8          3  2018                   64             3   \n",
       "9          3  2018                   85             1   \n",
       "\n",
       "   Generation_Capacity_Installed  Annual_Plant_factor  Net_Efficiency  \\\n",
       "0                          110.0                45.30           24.89   \n",
       "1                          420.0                34.82           30.96   \n",
       "2                          210.0                27.66           27.77   \n",
       "3                          365.0                38.57           44.91   \n",
       "4                          105.0                 0.00            0.00   \n",
       "5                           64.0                22.99           19.98   \n",
       "6                          210.0                16.23           29.38   \n",
       "7                          210.0                36.01           26.19   \n",
       "8                          412.0                87.42           56.13   \n",
       "9                           52.0                68.35           39.05   \n",
       "\n",
       "   Net_Energy_Generation  \n",
       "0                 314.96  \n",
       "1                 975.63  \n",
       "2                 424.30  \n",
       "3                1166.41  \n",
       "4                  -2.81  \n",
       "5                  79.47  \n",
       "6                 144.75  \n",
       "7                 636.82  \n",
       "8                3030.87  \n",
       "9                 302.62  "
      ]
     },
     "execution_count": 192,
     "metadata": {},
     "output_type": "execute_result"
    }
   ],
   "source": [
    "df.head(10)"
   ]
  },
  {
   "cell_type": "markdown",
   "id": "6973b431",
   "metadata": {},
   "source": [
    "#### Fill The Null Values"
   ]
  },
  {
   "cell_type": "code",
   "execution_count": 193,
   "id": "736c7aa1",
   "metadata": {},
   "outputs": [
    {
     "data": {
      "text/plain": [
       "Zone_Name                        0\n",
       "Year                             0\n",
       "Name_Of_Power_Plant              0\n",
       "Type_Of_Fuel                     0\n",
       "Generation_Capacity_Installed    0\n",
       "Annual_Plant_factor              0\n",
       "Net_Efficiency                   0\n",
       "Net_Energy_Generation            0\n",
       "dtype: int64"
      ]
     },
     "execution_count": 193,
     "metadata": {},
     "output_type": "execute_result"
    }
   ],
   "source": [
    "import math\n",
    "df['Generation_Capacity_Installed'].fillna(df['Generation_Capacity_Installed'].median(), inplace=True)\n",
    "df['Annual_Plant_factor'].fillna(df['Annual_Plant_factor'].median(), inplace=True)\n",
    "df['Net_Efficiency'].fillna(df['Net_Efficiency'].median(), inplace=True)\n",
    "df['Net_Energy_Generation'].fillna(df['Net_Energy_Generation'].median(), inplace=True)\n",
    "\n",
    "df.isnull().sum()"
   ]
  },
  {
   "cell_type": "markdown",
   "id": "28248714",
   "metadata": {},
   "source": [
    "#### Find Correlation Between The Variables\n",
    "\n",
    "#### Assumptions:\n",
    "\n",
    "#### 1. Net Energy Generation Increases when Generation Capacity Installed Increases.\n",
    "#### 2. Net Energy Generation Increases when Annual Plant Factor Increases. \n",
    "#### 3. Net Energy Generation Increases when Net Efficiency Increases.\n",
    "#### 4. Net Energy Generation Increases every year."
   ]
  },
  {
   "cell_type": "code",
   "execution_count": 194,
   "id": "3d2a18ef",
   "metadata": {},
   "outputs": [
    {
     "data": {
      "text/html": [
       "<div>\n",
       "<style scoped>\n",
       "    .dataframe tbody tr th:only-of-type {\n",
       "        vertical-align: middle;\n",
       "    }\n",
       "\n",
       "    .dataframe tbody tr th {\n",
       "        vertical-align: top;\n",
       "    }\n",
       "\n",
       "    .dataframe thead th {\n",
       "        text-align: right;\n",
       "    }\n",
       "</style>\n",
       "<table border=\"1\" class=\"dataframe\">\n",
       "  <thead>\n",
       "    <tr style=\"text-align: right;\">\n",
       "      <th></th>\n",
       "      <th>Zone_Name</th>\n",
       "      <th>Year</th>\n",
       "      <th>Name_Of_Power_Plant</th>\n",
       "      <th>Type_Of_Fuel</th>\n",
       "      <th>Generation_Capacity_Installed</th>\n",
       "      <th>Annual_Plant_factor</th>\n",
       "      <th>Net_Efficiency</th>\n",
       "      <th>Net_Energy_Generation</th>\n",
       "    </tr>\n",
       "  </thead>\n",
       "  <tbody>\n",
       "    <tr>\n",
       "      <th>Zone_Name</th>\n",
       "      <td>1.000000</td>\n",
       "      <td>0.023575</td>\n",
       "      <td>0.098025</td>\n",
       "      <td>-0.203207</td>\n",
       "      <td>-0.082165</td>\n",
       "      <td>0.136208</td>\n",
       "      <td>-0.072411</td>\n",
       "      <td>-0.064725</td>\n",
       "    </tr>\n",
       "    <tr>\n",
       "      <th>Year</th>\n",
       "      <td>0.023575</td>\n",
       "      <td>1.000000</td>\n",
       "      <td>-0.039854</td>\n",
       "      <td>-0.064234</td>\n",
       "      <td>0.054488</td>\n",
       "      <td>-0.069718</td>\n",
       "      <td>0.180311</td>\n",
       "      <td>0.028773</td>\n",
       "    </tr>\n",
       "    <tr>\n",
       "      <th>Name_Of_Power_Plant</th>\n",
       "      <td>0.098025</td>\n",
       "      <td>-0.039854</td>\n",
       "      <td>1.000000</td>\n",
       "      <td>0.232117</td>\n",
       "      <td>-0.150181</td>\n",
       "      <td>0.008942</td>\n",
       "      <td>-0.107981</td>\n",
       "      <td>-0.228892</td>\n",
       "    </tr>\n",
       "    <tr>\n",
       "      <th>Type_Of_Fuel</th>\n",
       "      <td>-0.203207</td>\n",
       "      <td>-0.064234</td>\n",
       "      <td>0.232117</td>\n",
       "      <td>1.000000</td>\n",
       "      <td>-0.116610</td>\n",
       "      <td>0.016765</td>\n",
       "      <td>-0.260923</td>\n",
       "      <td>-0.055746</td>\n",
       "    </tr>\n",
       "    <tr>\n",
       "      <th>Generation_Capacity_Installed</th>\n",
       "      <td>-0.082165</td>\n",
       "      <td>0.054488</td>\n",
       "      <td>-0.150181</td>\n",
       "      <td>-0.116610</td>\n",
       "      <td>1.000000</td>\n",
       "      <td>0.313187</td>\n",
       "      <td>0.416728</td>\n",
       "      <td>0.773264</td>\n",
       "    </tr>\n",
       "    <tr>\n",
       "      <th>Annual_Plant_factor</th>\n",
       "      <td>0.136208</td>\n",
       "      <td>-0.069718</td>\n",
       "      <td>0.008942</td>\n",
       "      <td>0.016765</td>\n",
       "      <td>0.313187</td>\n",
       "      <td>1.000000</td>\n",
       "      <td>0.424807</td>\n",
       "      <td>0.429935</td>\n",
       "    </tr>\n",
       "    <tr>\n",
       "      <th>Net_Efficiency</th>\n",
       "      <td>-0.072411</td>\n",
       "      <td>0.180311</td>\n",
       "      <td>-0.107981</td>\n",
       "      <td>-0.260923</td>\n",
       "      <td>0.416728</td>\n",
       "      <td>0.424807</td>\n",
       "      <td>1.000000</td>\n",
       "      <td>0.551078</td>\n",
       "    </tr>\n",
       "    <tr>\n",
       "      <th>Net_Energy_Generation</th>\n",
       "      <td>-0.064725</td>\n",
       "      <td>0.028773</td>\n",
       "      <td>-0.228892</td>\n",
       "      <td>-0.055746</td>\n",
       "      <td>0.773264</td>\n",
       "      <td>0.429935</td>\n",
       "      <td>0.551078</td>\n",
       "      <td>1.000000</td>\n",
       "    </tr>\n",
       "  </tbody>\n",
       "</table>\n",
       "</div>"
      ],
      "text/plain": [
       "                               Zone_Name      Year  Name_Of_Power_Plant  \\\n",
       "Zone_Name                       1.000000  0.023575             0.098025   \n",
       "Year                            0.023575  1.000000            -0.039854   \n",
       "Name_Of_Power_Plant             0.098025 -0.039854             1.000000   \n",
       "Type_Of_Fuel                   -0.203207 -0.064234             0.232117   \n",
       "Generation_Capacity_Installed  -0.082165  0.054488            -0.150181   \n",
       "Annual_Plant_factor             0.136208 -0.069718             0.008942   \n",
       "Net_Efficiency                 -0.072411  0.180311            -0.107981   \n",
       "Net_Energy_Generation          -0.064725  0.028773            -0.228892   \n",
       "\n",
       "                               Type_Of_Fuel  Generation_Capacity_Installed  \\\n",
       "Zone_Name                         -0.203207                      -0.082165   \n",
       "Year                              -0.064234                       0.054488   \n",
       "Name_Of_Power_Plant                0.232117                      -0.150181   \n",
       "Type_Of_Fuel                       1.000000                      -0.116610   \n",
       "Generation_Capacity_Installed     -0.116610                       1.000000   \n",
       "Annual_Plant_factor                0.016765                       0.313187   \n",
       "Net_Efficiency                    -0.260923                       0.416728   \n",
       "Net_Energy_Generation             -0.055746                       0.773264   \n",
       "\n",
       "                               Annual_Plant_factor  Net_Efficiency  \\\n",
       "Zone_Name                                 0.136208       -0.072411   \n",
       "Year                                     -0.069718        0.180311   \n",
       "Name_Of_Power_Plant                       0.008942       -0.107981   \n",
       "Type_Of_Fuel                              0.016765       -0.260923   \n",
       "Generation_Capacity_Installed             0.313187        0.416728   \n",
       "Annual_Plant_factor                       1.000000        0.424807   \n",
       "Net_Efficiency                            0.424807        1.000000   \n",
       "Net_Energy_Generation                     0.429935        0.551078   \n",
       "\n",
       "                               Net_Energy_Generation  \n",
       "Zone_Name                                  -0.064725  \n",
       "Year                                        0.028773  \n",
       "Name_Of_Power_Plant                        -0.228892  \n",
       "Type_Of_Fuel                               -0.055746  \n",
       "Generation_Capacity_Installed               0.773264  \n",
       "Annual_Plant_factor                         0.429935  \n",
       "Net_Efficiency                              0.551078  \n",
       "Net_Energy_Generation                       1.000000  "
      ]
     },
     "metadata": {},
     "output_type": "display_data"
    }
   ],
   "source": [
    "df_cor = df.corr()\n",
    "\n",
    "display(df_cor)"
   ]
  },
  {
   "cell_type": "markdown",
   "id": "dc79bb00",
   "metadata": {},
   "source": [
    "#### Heatmap of Correlation"
   ]
  },
  {
   "cell_type": "code",
   "execution_count": 195,
   "id": "3157ff7b",
   "metadata": {},
   "outputs": [
    {
     "data": {
      "image/png": "[encoded data removed]",
      "text/plain": [
       "<Figure size 864x432 with 2 Axes>"
      ]
     },
     "metadata": {
      "needs_background": "light"
     },
     "output_type": "display_data"
    }
   ],
   "source": [
    "plt.figure(figsize=(12,6))\n",
    "sns.heatmap(df_cor, annot=True, cmap=\"RdYlGn\", vmax=1, vmin=-1)\n",
    "plt.show()"
   ]
  },
  {
   "cell_type": "markdown",
   "id": "ff42317d",
   "metadata": {},
   "source": [
    "#### See Features"
   ]
  },
  {
   "cell_type": "code",
   "execution_count": 196,
   "id": "8669bb67",
   "metadata": {},
   "outputs": [
    {
     "data": {
      "text/plain": [
       "Index(['Zone_Name', 'Year', 'Name_Of_Power_Plant', 'Type_Of_Fuel',\n",
       "       'Generation_Capacity_Installed', 'Annual_Plant_factor',\n",
       "       'Net_Efficiency', 'Net_Energy_Generation'],\n",
       "      dtype='object')"
      ]
     },
     "execution_count": 196,
     "metadata": {},
     "output_type": "execute_result"
    }
   ],
   "source": [
    "df.columns"
   ]
  },
  {
   "cell_type": "markdown",
   "id": "77efe599",
   "metadata": {},
   "source": [
    "#### Separating The Features and Target Variable"
   ]
  },
  {
   "cell_type": "code",
   "execution_count": 197,
   "id": "6157446d",
   "metadata": {},
   "outputs": [
    {
     "name": "stdout",
     "output_type": "stream",
     "text": [
      "(199, 3) (199, 1)\n"
     ]
    }
   ],
   "source": [
    "features = ['Generation_Capacity_Installed', 'Annual_Plant_factor', 'Net_Efficiency']\n",
    "target = ['Net_Energy_Generation']\n",
    "\n",
    "X = df[features]\n",
    "y = df[target]\n",
    "\n",
    "print(X.shape, y.shape)\n"
   ]
  },
  {
   "cell_type": "markdown",
   "id": "81ebe5b9",
   "metadata": {},
   "source": [
    "#### Train & Test Data"
   ]
  },
  {
   "cell_type": "code",
   "execution_count": 198,
   "id": "e67a272f",
   "metadata": {},
   "outputs": [
    {
     "name": "stdout",
     "output_type": "stream",
     "text": [
      "(159, 3) (40, 3) (159, 1) (40, 1)\n"
     ]
    }
   ],
   "source": [
    "X_train, X_test, y_train, y_test = train_test_split(X, y, test_size=0.2, random_state=1)\n",
    "\n",
    "print(X_train.shape, X_test.shape, y_train.shape, y_test.shape)"
   ]
  },
  {
   "cell_type": "markdown",
   "id": "20452792",
   "metadata": {},
   "source": [
    "#### Linear Regression"
   ]
  },
  {
   "cell_type": "code",
   "execution_count": 199,
   "id": "9dbeeb7e",
   "metadata": {},
   "outputs": [],
   "source": [
    "LR = LinearRegression()\n",
    "\n",
    "LR = LR.fit(X_train, y_train)"
   ]
  },
  {
   "cell_type": "code",
   "execution_count": 200,
   "id": "dc36b338",
   "metadata": {},
   "outputs": [],
   "source": [
    "y_pred = LR.predict(X_test)"
   ]
  },
  {
   "cell_type": "code",
   "execution_count": 201,
   "id": "06e61463",
   "metadata": {},
   "outputs": [
    {
     "name": "stdout",
     "output_type": "stream",
     "text": [
      "[[ 887.89608166]\n",
      " [ 417.80533415]\n",
      " [ 686.45938825]\n",
      " [1584.9829541 ]\n",
      " [ 221.32954846]\n",
      " [ 834.18564578]\n",
      " [ 425.12213146]\n",
      " [-291.64092943]\n",
      " [ 560.79754006]\n",
      " [ 125.42349963]\n",
      " [-661.60553235]\n",
      " [ -93.77015229]\n",
      " [ 668.55469589]\n",
      " [ 201.71773482]\n",
      " [  25.13219334]\n",
      " [1177.53959627]\n",
      " [ 303.11158087]\n",
      " [ 502.28757412]\n",
      " [1254.72560341]\n",
      " [ 441.1598738 ]\n",
      " [ 791.17844896]\n",
      " [1463.39116407]\n",
      " [-227.17968314]\n",
      " [ 111.1635302 ]\n",
      " [1481.12269106]\n",
      " [ 905.95003094]\n",
      " [ 505.58294374]\n",
      " [ 608.22414326]\n",
      " [ 807.00373908]\n",
      " [ 582.56571566]\n",
      " [ 347.41625591]\n",
      " [ 162.90331314]\n",
      " [ 347.60115121]\n",
      " [-131.22039459]\n",
      " [-564.15342213]\n",
      " [1515.60554259]\n",
      " [ 997.69250163]\n",
      " [ 751.85406156]\n",
      " [  54.51011458]\n",
      " [ 302.46985877]]\n"
     ]
    }
   ],
   "source": [
    "print(y_pred)"
   ]
  },
  {
   "cell_type": "code",
   "execution_count": 202,
   "id": "23eadc89",
   "metadata": {},
   "outputs": [
    {
     "name": "stdout",
     "output_type": "stream",
     "text": [
      "     Net_Energy_Generation\n",
      "175             1251.00000\n",
      "40               287.82000\n",
      "34                -4.69000\n",
      "90              2427.89700\n",
      "145                1.07000\n",
      "182              660.10000\n",
      "95               169.26000\n",
      "4                 -2.81000\n",
      "29               194.59000\n",
      "167               70.05830\n",
      "53                 0.00000\n",
      "18                20.39210\n",
      "11               342.50000\n",
      "161               53.81880\n",
      "147               35.15000\n",
      "117             1531.47000\n",
      "105              445.80000\n",
      "35               318.89000\n",
      "110             1755.18360\n",
      "58               441.27990\n",
      "51              1003.05000\n",
      "16              2161.51070\n",
      "44                 0.73000\n",
      "93                33.05760\n",
      "31              1789.83000\n",
      "184             1236.00000\n",
      "38               175.19000\n",
      "28               626.84000\n",
      "171              772.25390\n",
      "27               463.93000\n",
      "47               204.57000\n",
      "164               94.44490\n",
      "59               153.10140\n",
      "143               37.50000\n",
      "148               -0.12000\n",
      "122             1081.55000\n",
      "136             1294.09000\n",
      "176              276.54585\n",
      "78                21.61000\n",
      "118              496.55000\n"
     ]
    }
   ],
   "source": [
    "print(y_test)"
   ]
  },
  {
   "cell_type": "code",
   "execution_count": 203,
   "id": "46c634d4",
   "metadata": {},
   "outputs": [
    {
     "name": "stdout",
     "output_type": "stream",
     "text": [
      "MAE =  268.91388505155584\n",
      "MSE =  114508.62679589773\n",
      "RMSE =  338.3912333319197\n",
      "r_squared 73.0072636316565\n"
     ]
    }
   ],
   "source": [
    "MAE = mean_absolute_error(y_test, y_pred)\n",
    "MSE = mean_squared_error(y_test, y_pred)\n",
    "RMSE = mean_squared_error(y_test, y_pred, squared=False)\n",
    "r_squared = r2_score(y_test, y_pred)\n",
    "\n",
    "print(\"MAE = \", MAE)\n",
    "print(\"MSE = \",MSE)\n",
    "print(\"RMSE = \",RMSE)\n",
    "print(\"r_squared\",(r_squared * 100))"
   ]
  },
  {
   "cell_type": "markdown",
   "id": "8cc0c97f",
   "metadata": {},
   "source": [
    "#### KNN Regressor"
   ]
  },
  {
   "cell_type": "code",
   "execution_count": 204,
   "id": "a829d265",
   "metadata": {},
   "outputs": [],
   "source": [
    "from sklearn.neighbors import KNeighborsRegressor\n",
    "\n",
    "KNN=KNeighborsRegressor() \n",
    "KNN=KNN.fit(X_train, y_train)"
   ]
  },
  {
   "cell_type": "code",
   "execution_count": 205,
   "id": "51fe55a1",
   "metadata": {},
   "outputs": [],
   "source": [
    "y_pred = KNN.predict(X_test)"
   ]
  },
  {
   "cell_type": "code",
   "execution_count": 206,
   "id": "cfc77411",
   "metadata": {},
   "outputs": [
    {
     "name": "stdout",
     "output_type": "stream",
     "text": [
      "[[ 769.71194]\n",
      " [ 215.4283 ]\n",
      " [ 549.93708]\n",
      " [2211.5913 ]\n",
      " [ 189.47824]\n",
      " [ 272.84983]\n",
      " [ 112.24824]\n",
      " [  65.92226]\n",
      " [ 193.67138]\n",
      " [  69.55112]\n",
      " [   3.308  ]\n",
      " [  54.0905 ]\n",
      " [ 318.78482]\n",
      " [ 255.2903 ]\n",
      " [  30.34672]\n",
      " [1761.1633 ]\n",
      " [ 345.4117 ]\n",
      " [ 261.63338]\n",
      " [1761.1633 ]\n",
      " [ 142.67824]\n",
      " [ 117.16356]\n",
      " [2211.5913 ]\n",
      " [  33.7845 ]\n",
      " [  38.902  ]\n",
      " [1953.1793 ]\n",
      " [ 849.89489]\n",
      " [ 112.24824]\n",
      " [ 628.03238]\n",
      " [ 430.36115]\n",
      " [ 532.49866]\n",
      " [ 192.27082]\n",
      " [  97.23112]\n",
      " [ 173.97814]\n",
      " [  53.586  ]\n",
      " [  42.04074]\n",
      " [1544.07142]\n",
      " [1028.90222]\n",
      " [ 552.50311]\n",
      " [ 189.47824]\n",
      " [ 452.75192]]\n"
     ]
    }
   ],
   "source": [
    "print(y_pred)"
   ]
  },
  {
   "cell_type": "code",
   "execution_count": 207,
   "id": "4626af48",
   "metadata": {},
   "outputs": [
    {
     "name": "stdout",
     "output_type": "stream",
     "text": [
      "     Net_Energy_Generation\n",
      "175             1251.00000\n",
      "40               287.82000\n",
      "34                -4.69000\n",
      "90              2427.89700\n",
      "145                1.07000\n",
      "182              660.10000\n",
      "95               169.26000\n",
      "4                 -2.81000\n",
      "29               194.59000\n",
      "167               70.05830\n",
      "53                 0.00000\n",
      "18                20.39210\n",
      "11               342.50000\n",
      "161               53.81880\n",
      "147               35.15000\n",
      "117             1531.47000\n",
      "105              445.80000\n",
      "35               318.89000\n",
      "110             1755.18360\n",
      "58               441.27990\n",
      "51              1003.05000\n",
      "16              2161.51070\n",
      "44                 0.73000\n",
      "93                33.05760\n",
      "31              1789.83000\n",
      "184             1236.00000\n",
      "38               175.19000\n",
      "28               626.84000\n",
      "171              772.25390\n",
      "27               463.93000\n",
      "47               204.57000\n",
      "164               94.44490\n",
      "59               153.10140\n",
      "143               37.50000\n",
      "148               -0.12000\n",
      "122             1081.55000\n",
      "136             1294.09000\n",
      "176              276.54585\n",
      "78                21.61000\n",
      "118              496.55000\n"
     ]
    }
   ],
   "source": [
    "print(y_test)"
   ]
  },
  {
   "cell_type": "code",
   "execution_count": 208,
   "id": "c6866c3d",
   "metadata": {},
   "outputs": [
    {
     "name": "stdout",
     "output_type": "stream",
     "text": [
      "MAE =  157.37035675\n",
      "MSE =  61630.7005745312\n",
      "RMSE =  248.25531328559958\n",
      "r_squared 85.4720006749375\n"
     ]
    }
   ],
   "source": [
    "MAE = mean_absolute_error(y_test, y_pred)\n",
    "MSE = mean_squared_error(y_test, y_pred)\n",
    "RMSE = mean_squared_error(y_test, y_pred, squared=False)\n",
    "r_squared = r2_score(y_test, y_pred)\n",
    "\n",
    "print(\"MAE = \", MAE)\n",
    "print(\"MSE = \",MSE)\n",
    "print(\"RMSE = \",RMSE)\n",
    "print(\"r_squared\",(r_squared * 100))"
   ]
  },
  {
   "cell_type": "markdown",
   "id": "3100bea3",
   "metadata": {},
   "source": [
    "#### Gradient Boosting Regressor"
   ]
  },
  {
   "cell_type": "code",
   "execution_count": 209,
   "id": "59ee4bde",
   "metadata": {},
   "outputs": [],
   "source": [
    "from sklearn.ensemble import GradientBoostingRegressor\n",
    "\n",
    "GB=GradientBoostingRegressor() \n",
    "GB=GB.fit(X_train, y_train.values.ravel())\n"
   ]
  },
  {
   "cell_type": "code",
   "execution_count": 210,
   "id": "67a5eb52",
   "metadata": {},
   "outputs": [],
   "source": [
    "y_pred = GB.predict(X_test)"
   ]
  },
  {
   "cell_type": "code",
   "execution_count": 211,
   "id": "e7e63a7c",
   "metadata": {},
   "outputs": [
    {
     "name": "stdout",
     "output_type": "stream",
     "text": [
      "[ 723.16752642  146.41529001  212.70894524 2402.34563837  111.94781526\n",
      "  109.98808316  194.33393162   64.72677221  202.60360443   37.67295077\n",
      "   -3.20853177   30.43934924  450.29530947  237.59786857   39.60702696\n",
      " 1596.3647743   462.71011673  329.71371577 1670.11577426  222.43749923\n",
      " -136.087034   1954.90133504   -7.87751692   19.55418881 2091.30553372\n",
      "  632.37165732  249.88295031  532.1145251   378.20159773  421.6850295\n",
      "  142.01948005   83.8687549   269.88442715   20.88603013  136.0008548\n",
      "  968.75866102 1311.45578122  491.60251938   68.02891693  486.76048106]\n"
     ]
    }
   ],
   "source": [
    "print(y_pred)"
   ]
  },
  {
   "cell_type": "code",
   "execution_count": 212,
   "id": "f3fdbef1",
   "metadata": {},
   "outputs": [
    {
     "name": "stdout",
     "output_type": "stream",
     "text": [
      "     Net_Energy_Generation\n",
      "175             1251.00000\n",
      "40               287.82000\n",
      "34                -4.69000\n",
      "90              2427.89700\n",
      "145                1.07000\n",
      "182              660.10000\n",
      "95               169.26000\n",
      "4                 -2.81000\n",
      "29               194.59000\n",
      "167               70.05830\n",
      "53                 0.00000\n",
      "18                20.39210\n",
      "11               342.50000\n",
      "161               53.81880\n",
      "147               35.15000\n",
      "117             1531.47000\n",
      "105              445.80000\n",
      "35               318.89000\n",
      "110             1755.18360\n",
      "58               441.27990\n",
      "51              1003.05000\n",
      "16              2161.51070\n",
      "44                 0.73000\n",
      "93                33.05760\n",
      "31              1789.83000\n",
      "184             1236.00000\n",
      "38               175.19000\n",
      "28               626.84000\n",
      "171              772.25390\n",
      "27               463.93000\n",
      "47               204.57000\n",
      "164               94.44490\n",
      "59               153.10140\n",
      "143               37.50000\n",
      "148               -0.12000\n",
      "122             1081.55000\n",
      "136             1294.09000\n",
      "176              276.54585\n",
      "78                21.61000\n",
      "118              496.55000\n"
     ]
    }
   ],
   "source": [
    "print(y_test)"
   ]
  },
  {
   "cell_type": "code",
   "execution_count": 213,
   "id": "ddd76c99",
   "metadata": {
    "scrolled": true
   },
   "outputs": [
    {
     "name": "stdout",
     "output_type": "stream",
     "text": [
      "MAE =  150.8689135786579\n",
      "MSE =  70961.06758690768\n",
      "RMSE =  266.3851865005028\n",
      "r_squared 83.27258440358641\n"
     ]
    }
   ],
   "source": [
    "MAE = mean_absolute_error(y_test, y_pred)\n",
    "MSE = mean_squared_error(y_test, y_pred)\n",
    "RMSE = mean_squared_error(y_test, y_pred, squared=False)\n",
    "r_squared = r2_score(y_test, y_pred)\n",
    "\n",
    "print(\"MAE = \", MAE)\n",
    "print(\"MSE = \",MSE)\n",
    "print(\"RMSE = \",RMSE)\n",
    "print(\"r_squared\",(r_squared * 100))"
   ]
  },
  {
   "cell_type": "markdown",
   "id": "9ffbdca8",
   "metadata": {},
   "source": [
    "#### Random Forest Regressor"
   ]
  },
  {
   "cell_type": "code",
   "execution_count": 214,
   "id": "a0719d13",
   "metadata": {},
   "outputs": [],
   "source": [
    "from sklearn.ensemble import RandomForestRegressor\n",
    "\n",
    "RFR=RandomForestRegressor() \n",
    "RFR=RFR.fit(X_train, y_train.values.ravel())\n"
   ]
  },
  {
   "cell_type": "code",
   "execution_count": 215,
   "id": "d69a578f",
   "metadata": {},
   "outputs": [],
   "source": [
    "y_pred = RFR.predict(X_test)"
   ]
  },
  {
   "cell_type": "code",
   "execution_count": 216,
   "id": "902a9ece",
   "metadata": {},
   "outputs": [
    {
     "name": "stdout",
     "output_type": "stream",
     "text": [
      "[8.71614999e+02 2.63943505e+02 1.43898881e+02 2.38542971e+03\n",
      " 3.19678940e+01 2.50862627e+02 1.33298715e+02 2.28266047e+01\n",
      " 1.57670926e+02 6.88935130e+01 3.91318800e-01 6.45212500e+01\n",
      " 2.49204358e+02 2.17366910e+02 4.08979140e+01 1.60354249e+03\n",
      " 4.46557929e+02 2.97225145e+02 1.62362596e+03 8.85322100e+01\n",
      " 8.67839130e+01 1.91229734e+03 4.62191900e+00 4.20853640e+01\n",
      " 1.96032777e+03 7.81143950e+02 1.40346879e+02 6.40511420e+02\n",
      " 2.64711148e+02 4.50631224e+02 1.72192854e+02 9.21837540e+01\n",
      " 2.39300243e+02 4.57826300e+01 3.46163327e+01 1.18629646e+03\n",
      " 1.19953667e+03 6.40753591e+02 2.78148670e+01 4.69591356e+02]\n"
     ]
    }
   ],
   "source": [
    "print(y_pred)"
   ]
  },
  {
   "cell_type": "code",
   "execution_count": 217,
   "id": "a2788625",
   "metadata": {},
   "outputs": [
    {
     "name": "stdout",
     "output_type": "stream",
     "text": [
      "     Net_Energy_Generation\n",
      "175             1251.00000\n",
      "40               287.82000\n",
      "34                -4.69000\n",
      "90              2427.89700\n",
      "145                1.07000\n",
      "182              660.10000\n",
      "95               169.26000\n",
      "4                 -2.81000\n",
      "29               194.59000\n",
      "167               70.05830\n",
      "53                 0.00000\n",
      "18                20.39210\n",
      "11               342.50000\n",
      "161               53.81880\n",
      "147               35.15000\n",
      "117             1531.47000\n",
      "105              445.80000\n",
      "35               318.89000\n",
      "110             1755.18360\n",
      "58               441.27990\n",
      "51              1003.05000\n",
      "16              2161.51070\n",
      "44                 0.73000\n",
      "93                33.05760\n",
      "31              1789.83000\n",
      "184             1236.00000\n",
      "38               175.19000\n",
      "28               626.84000\n",
      "171              772.25390\n",
      "27               463.93000\n",
      "47               204.57000\n",
      "164               94.44490\n",
      "59               153.10140\n",
      "143               37.50000\n",
      "148               -0.12000\n",
      "122             1081.55000\n",
      "136             1294.09000\n",
      "176              276.54585\n",
      "78                21.61000\n",
      "118              496.55000\n"
     ]
    }
   ],
   "source": [
    "print(y_test)"
   ]
  },
  {
   "cell_type": "code",
   "execution_count": 218,
   "id": "4c7e6096",
   "metadata": {},
   "outputs": [
    {
     "name": "stdout",
     "output_type": "stream",
     "text": [
      "MAE =  128.8420897416667\n",
      "MSE =  52123.4323931804\n",
      "RMSE =  228.30556802929797\n",
      "r_squared 87.71311726836028\n"
     ]
    }
   ],
   "source": [
    "MAE = mean_absolute_error(y_test, y_pred)\n",
    "MSE = mean_squared_error(y_test, y_pred)\n",
    "RMSE = mean_squared_error(y_test, y_pred, squared=False)\n",
    "r_squared = r2_score(y_test, y_pred)\n",
    "\n",
    "print(\"MAE = \", MAE)\n",
    "print(\"MSE = \",MSE)\n",
    "print(\"RMSE = \",RMSE)\n",
    "print(\"r_squared\",(r_squared * 100))"
   ]
  },
  {
   "cell_type": "markdown",
   "id": "30e4e7ef",
   "metadata": {},
   "source": [
    "#### Decision Tree Regressor"
   ]
  },
  {
   "cell_type": "code",
   "execution_count": 219,
   "id": "e6b33627",
   "metadata": {},
   "outputs": [],
   "source": [
    "from sklearn.tree import DecisionTreeRegressor\n",
    "\n",
    "DTR=DecisionTreeRegressor() \n",
    "DTR=DTR.fit(X_train, y_train)\n"
   ]
  },
  {
   "cell_type": "code",
   "execution_count": 220,
   "id": "7318b58b",
   "metadata": {},
   "outputs": [],
   "source": [
    "y_pred = DTR.predict(X_test)"
   ]
  },
  {
   "cell_type": "code",
   "execution_count": 221,
   "id": "34b28246",
   "metadata": {},
   "outputs": [
    {
     "name": "stdout",
     "output_type": "stream",
     "text": [
      "[ 9.45456900e+02  2.71200000e+02  3.40000000e-01  2.45847000e+03\n",
      "  1.49000000e+00  9.45800000e+01  1.56411300e+02  1.49000000e+00\n",
      "  1.04800000e+02  8.29046000e+01  2.50000000e-02  6.27900000e+01\n",
      "  3.40000000e-01  1.72528100e+02  9.22000000e+00  1.63794000e+03\n",
      "  4.45920000e+02  3.13310000e+02  1.63794000e+03  3.66520000e+02\n",
      "  5.91000000e+00  1.75900000e+03  2.14800000e-01  3.95000000e+01\n",
      "  1.99903710e+03  9.45456900e+02  1.25105600e+02  6.50500600e+02\n",
      "  5.48920000e+01  6.15680000e+02  1.29210000e+02  8.29046000e+01\n",
      "  3.66520000e+02  4.40500000e+01 -3.63433333e-01  9.00900000e+02\n",
      "  1.35114000e+03  9.59030000e+02  1.49000000e+00  4.79631100e+02]\n"
     ]
    }
   ],
   "source": [
    "print(y_pred)"
   ]
  },
  {
   "cell_type": "code",
   "execution_count": 222,
   "id": "30898dcb",
   "metadata": {},
   "outputs": [
    {
     "name": "stdout",
     "output_type": "stream",
     "text": [
      "     Net_Energy_Generation\n",
      "175             1251.00000\n",
      "40               287.82000\n",
      "34                -4.69000\n",
      "90              2427.89700\n",
      "145                1.07000\n",
      "182              660.10000\n",
      "95               169.26000\n",
      "4                 -2.81000\n",
      "29               194.59000\n",
      "167               70.05830\n",
      "53                 0.00000\n",
      "18                20.39210\n",
      "11               342.50000\n",
      "161               53.81880\n",
      "147               35.15000\n",
      "117             1531.47000\n",
      "105              445.80000\n",
      "35               318.89000\n",
      "110             1755.18360\n",
      "58               441.27990\n",
      "51              1003.05000\n",
      "16              2161.51070\n",
      "44                 0.73000\n",
      "93                33.05760\n",
      "31              1789.83000\n",
      "184             1236.00000\n",
      "38               175.19000\n",
      "28               626.84000\n",
      "171              772.25390\n",
      "27               463.93000\n",
      "47               204.57000\n",
      "164               94.44490\n",
      "59               153.10140\n",
      "143               37.50000\n",
      "148               -0.12000\n",
      "122             1081.55000\n",
      "136             1294.09000\n",
      "176              276.54585\n",
      "78                21.61000\n",
      "118              496.55000\n"
     ]
    }
   ],
   "source": [
    "print(y_test)"
   ]
  },
  {
   "cell_type": "code",
   "execution_count": 223,
   "id": "17b97e84",
   "metadata": {},
   "outputs": [
    {
     "name": "stdout",
     "output_type": "stream",
     "text": [
      "MAE =  149.76093958333334\n",
      "MSE =  74153.84655834426\n",
      "RMSE =  272.31203895227304\n",
      "r_squared 82.51996127404708\n"
     ]
    }
   ],
   "source": [
    "MAE = mean_absolute_error(y_test, y_pred)\n",
    "MSE = mean_squared_error(y_test, y_pred)\n",
    "RMSE = mean_squared_error(y_test, y_pred, squared=False)\n",
    "r_squared = r2_score(y_test, y_pred)\n",
    "\n",
    "print(\"MAE = \", MAE)\n",
    "print(\"MSE = \",MSE)\n",
    "print(\"RMSE = \",RMSE)\n",
    "print(\"r_squared\",(r_squared * 100))"
   ]
  },
  {
   "cell_type": "markdown",
   "id": "6b7c101b",
   "metadata": {},
   "source": [
    "#### Lasso"
   ]
  },
  {
   "cell_type": "code",
   "execution_count": 224,
   "id": "0cce4cc6",
   "metadata": {},
   "outputs": [],
   "source": [
    "from sklearn.linear_model import Lasso\n",
    "\n",
    "L=Lasso() \n",
    "L=L.fit(X_train, y_train)"
   ]
  },
  {
   "cell_type": "code",
   "execution_count": 225,
   "id": "37583343",
   "metadata": {},
   "outputs": [],
   "source": [
    "y_pred = L.predict(X_test)"
   ]
  },
  {
   "cell_type": "code",
   "execution_count": 226,
   "id": "4a10f5fb",
   "metadata": {},
   "outputs": [
    {
     "name": "stdout",
     "output_type": "stream",
     "text": [
      "[ 887.81123836  417.70105515  686.4641906  1584.82769971  221.45070348\n",
      "  834.11118575  425.11735435 -291.26813587  560.85939514  125.35226359\n",
      " -661.26120171  -93.63973171  668.5661734   201.76891655   25.17933859\n",
      " 1177.5620567   303.14147192  502.4023634  1254.70225638  441.17373232\n",
      "  791.09067206 1463.32588663 -226.9850234   111.09440668 1481.02453936\n",
      "  905.87333476  505.5112742   608.30017478  806.96426959  582.64533258\n",
      "  347.3318972   162.81791675  347.68490907 -131.13181246 -563.79496976\n",
      " 1515.53863614  997.49358635  751.87085762   54.7549512   302.51295741]\n"
     ]
    }
   ],
   "source": [
    "print(y_pred)"
   ]
  },
  {
   "cell_type": "code",
   "execution_count": 227,
   "id": "8d3b696c",
   "metadata": {},
   "outputs": [
    {
     "name": "stdout",
     "output_type": "stream",
     "text": [
      "     Net_Energy_Generation\n",
      "175             1251.00000\n",
      "40               287.82000\n",
      "34                -4.69000\n",
      "90              2427.89700\n",
      "145                1.07000\n",
      "182              660.10000\n",
      "95               169.26000\n",
      "4                 -2.81000\n",
      "29               194.59000\n",
      "167               70.05830\n",
      "53                 0.00000\n",
      "18                20.39210\n",
      "11               342.50000\n",
      "161               53.81880\n",
      "147               35.15000\n",
      "117             1531.47000\n",
      "105              445.80000\n",
      "35               318.89000\n",
      "110             1755.18360\n",
      "58               441.27990\n",
      "51              1003.05000\n",
      "16              2161.51070\n",
      "44                 0.73000\n",
      "93                33.05760\n",
      "31              1789.83000\n",
      "184             1236.00000\n",
      "38               175.19000\n",
      "28               626.84000\n",
      "171              772.25390\n",
      "27               463.93000\n",
      "47               204.57000\n",
      "164               94.44490\n",
      "59               153.10140\n",
      "143               37.50000\n",
      "148               -0.12000\n",
      "122             1081.55000\n",
      "136             1294.09000\n",
      "176              276.54585\n",
      "78                21.61000\n",
      "118              496.55000\n"
     ]
    }
   ],
   "source": [
    "print(y_test)"
   ]
  },
  {
   "cell_type": "code",
   "execution_count": 228,
   "id": "ec7283d6",
   "metadata": {
    "scrolled": true
   },
   "outputs": [
    {
     "name": "stdout",
     "output_type": "stream",
     "text": [
      "MAE =  268.8935633010502\n",
      "MSE =  114495.41927527582\n",
      "RMSE =  338.3717176054698\n",
      "r_squared 73.0103769964064\n"
     ]
    }
   ],
   "source": [
    "MAE = mean_absolute_error(y_test, y_pred)\n",
    "MSE = mean_squared_error(y_test, y_pred)\n",
    "RMSE = mean_squared_error(y_test, y_pred, squared=False)\n",
    "r_squared = r2_score(y_test, y_pred)\n",
    "\n",
    "print(\"MAE = \", MAE)\n",
    "print(\"MSE = \",MSE)\n",
    "print(\"RMSE = \",RMSE)\n",
    "print(\"r_squared\",(r_squared * 100))"
   ]
  },
  {
   "cell_type": "markdown",
   "id": "99c14561",
   "metadata": {},
   "source": [
    "#### Bayesian Ridge Regression"
   ]
  },
  {
   "cell_type": "code",
   "execution_count": 229,
   "id": "69af3cba",
   "metadata": {},
   "outputs": [],
   "source": [
    "from sklearn.linear_model import BayesianRidge\n",
    "\n",
    "BR=BayesianRidge() \n",
    "BR=BR.fit(X_train, y_train.values.ravel())"
   ]
  },
  {
   "cell_type": "code",
   "execution_count": 230,
   "id": "c107cb66",
   "metadata": {},
   "outputs": [],
   "source": [
    "y_pred=BR.predict(X_test)"
   ]
  },
  {
   "cell_type": "code",
   "execution_count": 231,
   "id": "247253b3",
   "metadata": {},
   "outputs": [
    {
     "name": "stdout",
     "output_type": "stream",
     "text": [
      "[ 874.854449    396.59853358  686.70911533 1559.16885437  240.36459469\n",
      "  819.16962654  421.47519764 -223.75076634  569.63474381  108.93050108\n",
      " -599.17490713  -71.28059592  668.26435062  211.29658777   30.43687762\n",
      " 1183.58902162  312.83881595  522.03417798 1252.67936307  443.20928516\n",
      "  769.50641727 1454.01189195 -193.82159728   94.10687187 1464.02585819\n",
      "  893.98289284  488.67778508  623.17890757  799.7812439   597.16051819\n",
      "  329.24749239  144.20253174  363.23093382 -116.85238229 -495.06088659\n",
      " 1501.53102621  963.47643736  758.55939731   97.51004949  315.6260306 ]\n"
     ]
    }
   ],
   "source": [
    "print(y_pred)"
   ]
  },
  {
   "cell_type": "code",
   "execution_count": 232,
   "id": "215221ef",
   "metadata": {},
   "outputs": [
    {
     "name": "stdout",
     "output_type": "stream",
     "text": [
      "     Net_Energy_Generation\n",
      "175             1251.00000\n",
      "40               287.82000\n",
      "34                -4.69000\n",
      "90              2427.89700\n",
      "145                1.07000\n",
      "182              660.10000\n",
      "95               169.26000\n",
      "4                 -2.81000\n",
      "29               194.59000\n",
      "167               70.05830\n",
      "53                 0.00000\n",
      "18                20.39210\n",
      "11               342.50000\n",
      "161               53.81880\n",
      "147               35.15000\n",
      "117             1531.47000\n",
      "105              445.80000\n",
      "35               318.89000\n",
      "110             1755.18360\n",
      "58               441.27990\n",
      "51              1003.05000\n",
      "16              2161.51070\n",
      "44                 0.73000\n",
      "93                33.05760\n",
      "31              1789.83000\n",
      "184             1236.00000\n",
      "38               175.19000\n",
      "28               626.84000\n",
      "171              772.25390\n",
      "27               463.93000\n",
      "47               204.57000\n",
      "164               94.44490\n",
      "59               153.10140\n",
      "143               37.50000\n",
      "148               -0.12000\n",
      "122             1081.55000\n",
      "136             1294.09000\n",
      "176              276.54585\n",
      "78                21.61000\n",
      "118              496.55000\n"
     ]
    }
   ],
   "source": [
    "print(y_test)"
   ]
  },
  {
   "cell_type": "code",
   "execution_count": 233,
   "id": "8eb46155",
   "metadata": {},
   "outputs": [
    {
     "name": "stdout",
     "output_type": "stream",
     "text": [
      "MAE =  264.0843158086076\n",
      "MSE =  111953.07013144353\n",
      "RMSE =  334.59388836534885\n",
      "r_squared 73.60967647379921\n"
     ]
    }
   ],
   "source": [
    "MAE = mean_absolute_error(y_test, y_pred)\n",
    "MSE = mean_squared_error(y_test, y_pred)\n",
    "RMSE = mean_squared_error(y_test, y_pred, squared=False)\n",
    "r_squared = r2_score(y_test, y_pred)\n",
    "\n",
    "print(\"MAE = \", MAE)\n",
    "print(\"MSE = \",MSE)\n",
    "print(\"RMSE = \",RMSE)\n",
    "print(\"r_squared\",(r_squared * 100))"
   ]
  },
  {
   "cell_type": "code",
   "execution_count": 234,
   "id": "b9e8785b",
   "metadata": {},
   "outputs": [
    {
     "data": {
      "text/html": [
       "<div>\n",
       "<style scoped>\n",
       "    .dataframe tbody tr th:only-of-type {\n",
       "        vertical-align: middle;\n",
       "    }\n",
       "\n",
       "    .dataframe tbody tr th {\n",
       "        vertical-align: top;\n",
       "    }\n",
       "\n",
       "    .dataframe thead th {\n",
       "        text-align: right;\n",
       "    }\n",
       "</style>\n",
       "<table border=\"1\" class=\"dataframe\">\n",
       "  <thead>\n",
       "    <tr style=\"text-align: right;\">\n",
       "      <th></th>\n",
       "      <th>Regression Models</th>\n",
       "      <th>R2_Score</th>\n",
       "      <th>MAE</th>\n",
       "      <th>MSE</th>\n",
       "      <th>RMSE</th>\n",
       "    </tr>\n",
       "  </thead>\n",
       "  <tbody>\n",
       "    <tr>\n",
       "      <th>0</th>\n",
       "      <td>Linear Regression</td>\n",
       "      <td>73.007264</td>\n",
       "      <td>268.913885</td>\n",
       "      <td>114508.626796</td>\n",
       "      <td>338.391233</td>\n",
       "    </tr>\n",
       "    <tr>\n",
       "      <th>1</th>\n",
       "      <td>KNN Regressor</td>\n",
       "      <td>85.472001</td>\n",
       "      <td>157.370357</td>\n",
       "      <td>61630.700575</td>\n",
       "      <td>248.255313</td>\n",
       "    </tr>\n",
       "    <tr>\n",
       "      <th>2</th>\n",
       "      <td>Gradient Boosting</td>\n",
       "      <td>84.475069</td>\n",
       "      <td>148.629227</td>\n",
       "      <td>65859.884152</td>\n",
       "      <td>256.631807</td>\n",
       "    </tr>\n",
       "    <tr>\n",
       "      <th>3</th>\n",
       "      <td>Random Forest</td>\n",
       "      <td>87.129980</td>\n",
       "      <td>131.880861</td>\n",
       "      <td>54597.216941</td>\n",
       "      <td>233.660474</td>\n",
       "    </tr>\n",
       "    <tr>\n",
       "      <th>4</th>\n",
       "      <td>Decision Tree</td>\n",
       "      <td>83.741619</td>\n",
       "      <td>141.930804</td>\n",
       "      <td>68971.330074</td>\n",
       "      <td>262.623933</td>\n",
       "    </tr>\n",
       "    <tr>\n",
       "      <th>5</th>\n",
       "      <td>Lasso</td>\n",
       "      <td>73.010377</td>\n",
       "      <td>268.893563</td>\n",
       "      <td>114495.419275</td>\n",
       "      <td>338.371718</td>\n",
       "    </tr>\n",
       "    <tr>\n",
       "      <th>6</th>\n",
       "      <td>Bayesian Ridge</td>\n",
       "      <td>73.609676</td>\n",
       "      <td>264.084316</td>\n",
       "      <td>111953.070131</td>\n",
       "      <td>334.593888</td>\n",
       "    </tr>\n",
       "  </tbody>\n",
       "</table>\n",
       "</div>"
      ],
      "text/plain": [
       "   Regression Models   R2_Score         MAE            MSE        RMSE\n",
       "0  Linear Regression  73.007264  268.913885  114508.626796  338.391233\n",
       "1      KNN Regressor  85.472001  157.370357   61630.700575  248.255313\n",
       "2  Gradient Boosting  84.475069  148.629227   65859.884152  256.631807\n",
       "3      Random Forest  87.129980  131.880861   54597.216941  233.660474\n",
       "4      Decision Tree  83.741619  141.930804   68971.330074  262.623933\n",
       "5              Lasso  73.010377  268.893563  114495.419275  338.371718\n",
       "6     Bayesian Ridge  73.609676  264.084316  111953.070131  334.593888"
      ]
     },
     "execution_count": 234,
     "metadata": {},
     "output_type": "execute_result"
    }
   ],
   "source": [
    "models = []\n",
    "models.append(('Linear Regression', LinearRegression()))\n",
    "models.append(('KNN Regressor', KNeighborsRegressor()))\n",
    "models.append(('Gradient Boosting', GradientBoostingRegressor()))\n",
    "models.append(('Random Forest', RandomForestRegressor()))\n",
    "models.append(('Decision Tree', DecisionTreeRegressor()))\n",
    "models.append(('Lasso', Lasso()))\n",
    "models.append(('Bayesian Ridge', BayesianRidge()))\n",
    "names = []\n",
    "r2score = []\n",
    "mae=[]\n",
    "mse=[]\n",
    "rmse=[]\n",
    "for name, model in models:\n",
    "    model.fit(X_train, y_train.values.ravel())\n",
    "    y_pred = model.predict(X_test)\n",
    "    r2score.append((r2_score(y_test, y_pred))*100)\n",
    "    mae.append(mean_absolute_error(y_test, y_pred))\n",
    "    mse.append(mean_squared_error(y_test, y_pred))\n",
    "    rmse.append(mean_squared_error(y_test, y_pred, squared=False))\n",
    "    names.append(name)\n",
    "tr_split = pd.DataFrame({'Regression Models': names, 'R2_Score': r2score, 'MAE': mae, 'MSE': mse, 'RMSE': rmse })\n",
    "tr_split"
   ]
  },
  {
   "cell_type": "code",
   "execution_count": 235,
   "id": "8d640949",
   "metadata": {},
   "outputs": [
    {
     "data": {
      "image/png": "[encoded data removed]",
      "text/plain": [
       "<Figure size 1296x432 with 1 Axes>"
      ]
     },
     "metadata": {
      "needs_background": "light"
     },
     "output_type": "display_data"
    }
   ],
   "source": [
    "plt.figure(figsize=(18,6))\n",
    "axis = sns.barplot(x = 'Regression Models', y = 'R2_Score', data =tr_split )\n",
    "axis.set(xlabel='Regression Models', ylabel='R2 Score')\n",
    "for p in axis.patches:\n",
    "    height = p.get_height()\n",
    "    axis.text(p.get_x() + p.get_width()/2, height + 2, '{:1.4f}'.format(height), ha=\"center\") \n",
    "plt.yticks(np.arange(0,110,10))   \n",
    "plt.show()"
   ]
  },
  {
   "cell_type": "code",
   "execution_count": 236,
   "id": "c944b195",
   "metadata": {},
   "outputs": [
    {
     "data": {
      "image/png": "[encoded data removed]",
      "text/plain": [
       "<Figure size 1296x432 with 1 Axes>"
      ]
     },
     "metadata": {
      "needs_background": "light"
     },
     "output_type": "display_data"
    }
   ],
   "source": [
    "plt.figure(figsize=(18,6))\n",
    "axis = sns.barplot(x = 'Regression Models', y = 'MAE', data =tr_split )\n",
    "axis.set(xlabel='Regression Models', ylabel='Mean Absolute Error')\n",
    "for p in axis.patches:\n",
    "    height = p.get_height()\n",
    "    axis.text(p.get_x() + p.get_width()/2, height + 5.0, '{:1.4f}'.format(height), ha=\"center\") \n",
    "plt.yticks(np.arange(0,310,50))   \n",
    "plt.show()"
   ]
  },
  {
   "cell_type": "code",
   "execution_count": 237,
   "id": "8b3ef5f5",
   "metadata": {},
   "outputs": [
    {
     "data": {
      "image/png": "[encoded data removed]",
      "text/plain": [
       "<Figure size 1296x432 with 1 Axes>"
      ]
     },
     "metadata": {
      "needs_background": "light"
     },
     "output_type": "display_data"
    }
   ],
   "source": [
    "plt.figure(figsize=(18,6))\n",
    "axis = sns.barplot(x = 'Regression Models', y = 'MSE', data =tr_split )\n",
    "axis.set(xlabel='Regression Models', ylabel='Mean Squared Error')\n",
    "for p in axis.patches:\n",
    "    height = p.get_height()\n",
    "    axis.text(p.get_x() + p.get_width()/2, height + 3000, '{:1.4f}'.format(height), ha=\"center\") \n",
    "plt.yticks(np.arange(0,150000,20000))   \n",
    "plt.show()"
   ]
  },
  {
   "cell_type": "code",
   "execution_count": 238,
   "id": "8a7cbdca",
   "metadata": {},
   "outputs": [
    {
     "data": {
      "image/png": "[encoded data removed]",
      "text/plain": [
       "<Figure size 1296x432 with 1 Axes>"
      ]
     },
     "metadata": {
      "needs_background": "light"
     },
     "output_type": "display_data"
    }
   ],
   "source": [
    "plt.figure(figsize=(18,6))\n",
    "axis = sns.barplot(x = 'Regression Models', y = 'RMSE', data =tr_split )\n",
    "axis.set(xlabel='Regression Models', ylabel='Root Mean Squared Error')\n",
    "for p in axis.patches:\n",
    "    height = p.get_height()\n",
    "    axis.text(p.get_x() + p.get_width()/2, height + 10, '{:1.4f}'.format(height), ha=\"center\") \n",
    "plt.yticks(np.arange(0,410,50))   \n",
    "plt.show()"
   ]
  },
  {
   "cell_type": "code",
   "execution_count": null,
   "id": "f0188b6e",
   "metadata": {},
   "outputs": [],
   "source": []
  }
 ],
 "metadata": {
  "kernelspec": {
   "display_name": "Python 3 (ipykernel)",
   "language": "python",
   "name": "python3"
  },
  "language_info": {
   "codemirror_mode": {
    "name": "ipython",
    "version": 3
   },
   "file_extension": ".py",
   "mimetype": "text/x-python",
   "name": "python",
   "nbconvert_exporter": "python",
   "pygments_lexer": "ipython3",
   "version": "3.9.12"
  }
 },
 "nbformat": 4,
 "nbformat_minor": 5
}
